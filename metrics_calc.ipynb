{
 "cells": [
  {
   "cell_type": "code",
   "execution_count": null,
   "id": "731ba5db",
   "metadata": {
    "scrolled": true
   },
   "outputs": [],
   "source": [
    "import math\n",
    "import pickle\n",
    "import os\n",
    "import json\n",
    "from metrics_tools import *\n",
    "import sklearn.metrics\n",
    "\n",
    "# set resolution from [\"10x\", \"20x\", \"40x\"]\n",
    "res = \"10x\"\n",
    "\n",
    "# set model cancer threshold\n",
    "patch_cancer_threshold = 0.5\n",
    "\n",
    "# set list of subclasses\n",
    "short_names = ['BrCA', 'Fat', 'Lymphocytes', 'Capsule', 'Blood', 'Histiocytes', 'Vein', 'Artery', 'GC', 'Sinus', 'Mantle', 'Nerve', 'Marginal', 'Light Zone', 'Dark Zone']\n",
    "\n",
    "# set inference and ground truth directories\n",
    "inf_dir = None\n",
    "gt_dir = None \n",
    "\n",
    "# set pickle file names\n",
    "gt_pickle_file = res + \"_gt.pickle\"\n",
    "results_pickle_file = res + \"_results.pickle\"\n",
    "results_fov_pickle_file = res + \"_results_fov.pickle\""
   ]
  },
  {
   "cell_type": "code",
   "execution_count": null,
   "id": "8d3cf833",
   "metadata": {},
   "outputs": [],
   "source": [
    "# parse inference and ground truth files into inf and gt\n",
    "inf, gt = inf_gt_preprocessing(inf_dir, gt_dir)"
   ]
  },
  {
   "cell_type": "code",
   "execution_count": null,
   "id": "6c16e349",
   "metadata": {},
   "outputs": [],
   "source": [
    "# save gt as pickle\n",
    "with open(gt_pickle_file, 'wb') as file:\n",
    "    pickle.dump(gt, file)"
   ]
  },
  {
   "cell_type": "code",
   "execution_count": null,
   "id": "749b7af5",
   "metadata": {},
   "outputs": [],
   "source": [
    "# load gt as pickle\n",
    "with open(gt_pickle_file, 'rb') as file:\n",
    "    gt = pickle.load(file)"
   ]
  },
  {
   "cell_type": "code",
   "execution_count": null,
   "id": "f5b6db56",
   "metadata": {},
   "outputs": [],
   "source": [
    "# compute patch level results\n",
    "results = {}\n",
    "for s in short_names:\n",
    "    results[s] = {'tp':[], 'tn':[], 'fp':[], 'fn':[], 'y_true':[], 'y_pred':[], 'fpr':[], 'tpr':[], 'thresh':[]}\n",
    "\n",
    "for slide in gt.keys():\n",
    "    for fov in gt[slide].keys():\n",
    "        for patch in gt[slide][fov]:\n",
    "            if patch['object_class'] == 'Benign':\n",
    "                if patch['conf'][0] >= 1-patch_cancer_threshold:\n",
    "                    results[patch['short_name']]['tn'].append([slide,fov])\n",
    "                else:\n",
    "                    results[patch['short_name']]['fp'].append([slide,fov])\n",
    "            if patch['object_class'] == 'Cancer':\n",
    "                if patch['conf'][1] > patch_cancer_threshold:\n",
    "                    results[patch['short_name']]['tp'].append([slide,fov])\n",
    "                else:\n",
    "                    results[patch['short_name']]['fn'].append([slide,fov])\n",
    "            results[patch['short_name']]['y_true'].append(patch['object_class'])\n",
    "            results[patch['short_name']]['y_pred'].append(patch['conf'][1])\n",
    "\n",
    "# get overall results by combining results for each short_name\n",
    "results['overall'] = {'tp':[], 'tn':[], 'fp':[], 'fn':[], 'y_true':[], 'y_pred':[], 'tpr':[], 'fpr':[], 'thresh':[]}\n",
    "for key in results['overall']:\n",
    "    results['overall'][key] = [item for short_name in short_names for item in results[short_name][key]]\n",
    "    \n",
    "# get results without fat\n",
    "nofat = list(short_names)\n",
    "nofat.remove('Fat')\n",
    "results['nofat'] = {'tp':[], 'tn':[], 'fp':[], 'fn':[], 'y_true':[], 'y_pred':[], 'tpr':[], 'fpr':[], 'thresh':[]}\n",
    "for key in results['nofat']:\n",
    "    results['nofat'][key] = [item for short_name in nofat for item in results[short_name][key]]\n",
    "    \n",
    "# remove short_names with no instances\n",
    "for s in short_names:\n",
    "    if not results[s]['y_true']:\n",
    "        results.pop(s)\n",
    "\n",
    "# get fpr and tpr for various thresholds between 0 and 1\n",
    "for s in results.keys():\n",
    "    results[s]['fpr'], results[s]['tpr'], results[s]['thresh'] = sklearn.metrics.roc_curve(results[s]['y_true'], results[s]['y_pred'], drop_intermediate=False, pos_label='Cancer')\n",
    "    \n",
    "#get total number and overall accuracy for each short_name\n",
    "for key in results.keys():\n",
    "    tp, tn, fp, fn = get_conf_matrix(results[key])\n",
    "    total = tp + tn + fp + fn\n",
    "    results[key]['total'] = total\n",
    "    results[key]['accuracy'] = (tp + tn) / total"
   ]
  },
  {
   "cell_type": "code",
   "execution_count": null,
   "id": "9e19ff45",
   "metadata": {},
   "outputs": [],
   "source": [
    "# save results as pickle\n",
    "with open(results_pickle_file, 'wb') as file:\n",
    "    pickle.dump(results, file)"
   ]
  },
  {
   "cell_type": "code",
   "execution_count": null,
   "id": "e57d8aaf",
   "metadata": {},
   "outputs": [],
   "source": [
    "# load results as pickle\n",
    "with open(results_pickle_file, 'rb') as file:\n",
    "    results = pickle.load(file)"
   ]
  },
  {
   "cell_type": "code",
   "execution_count": null,
   "id": "cf3db2f2",
   "metadata": {},
   "outputs": [],
   "source": [
    "# print total number of AOIs and FOVs\n",
    "print(\"Total AOIs:\")\n",
    "print(sum(get_conf_matrix(results['overall'])))\n",
    "print(\"Total FOVs:\")\n",
    "print(sum([1 for slide in gt.keys() for fov in gt[slide]]))\n",
    "print(\"\\n\")\n",
    "\n",
    "# print patch level global metrics\n",
    "print(\"Overall metrics:\")\n",
    "roc_auc = sklearn.metrics.auc(results['overall']['fpr'], results['overall']['tpr'])\n",
    "print('AUC:', roc_auc)\n",
    "print_metrics(results['overall'])\n",
    "print(\"\\n\")\n",
    "\n",
    "# print patch level global metrics without fat\n",
    "print(\"No fat metrics:\")\n",
    "nofat_roc_auc = sklearn.metrics.auc(results['nofat']['fpr'], results['nofat']['tpr'])\n",
    "print('AUC:', nofat_roc_auc)\n",
    "print_metrics(results['nofat'])\n",
    "\n",
    "# print percent and accuracy for each subclass\n",
    "for key in results.keys():\n",
    "    print(\"\\n\", key)\n",
    "    print(\"Accuracy:\", round(results[key]['accuracy'], 4))\n",
    "    print(\"Percent:\", str(round(results[key]['total'] / results['overall']['total'] * 100, 3)) + '%')"
   ]
  },
  {
   "cell_type": "code",
   "execution_count": null,
   "id": "823f818a",
   "metadata": {},
   "outputs": [],
   "source": [
    "# aggregate_max to FOV level \n",
    "fov_cancer_threshold = 0.5\n",
    "num_patches = 1\n",
    "\n",
    "gt_fov = {}\n",
    "for slide in gt.keys():\n",
    "    gt_fov[slide] = []\n",
    "    for fov in gt[slide].keys():\n",
    "        if len(gt[slide][fov]) >= num_patches:\n",
    "            gt_fov[slide].append(aggregate_max(fov, gt[slide][fov]))"
   ]
  },
  {
   "cell_type": "code",
   "execution_count": null,
   "id": "8ebb1be3",
   "metadata": {
    "scrolled": false
   },
   "outputs": [],
   "source": [
    "# compute fov level results\n",
    "results = {'y_true':[], 'y_pred':[], 'tp':[], 'tn':[], 'fp':[], 'fn':[], 'fpr':[], 'tpr':[], 'thresh':[]}\n",
    "\n",
    "for slide in gt_fov.keys():\n",
    "    for fov in gt_fov[slide]:\n",
    "        if fov['object_class'] == 'Benign':\n",
    "            if fov['conf'][0] >= 1-fov_cancer_threshold:\n",
    "                results['tn'].append([slide, fov['id']])\n",
    "            else:\n",
    "                results['fp'].append([slide, fov['id']])\n",
    "        if fov['object_class'] == 'Cancer':\n",
    "            if fov['conf'][1] > fov_cancer_threshold:\n",
    "                results['tp'].append([slide, fov['id']])\n",
    "            else:\n",
    "                results['fn'].append([slide, fov['id']])\n",
    "        results['y_true'].append(fov['object_class'])\n",
    "        results['y_pred'].append(fov['conf'][1])"
   ]
  },
  {
   "cell_type": "code",
   "execution_count": null,
   "id": "06fe3427",
   "metadata": {},
   "outputs": [],
   "source": [
    "# print fov level global metrics\n",
    "results['fpr'], results['tpr'], results['thresh'] = sklearn.metrics.roc_curve(results['y_true'], results['y_pred'], pos_label='Cancer')\n",
    "roc_auc = sklearn.metrics.auc(results['fpr'], results['tpr'])\n",
    "print(\"AUC:\", roc_auc)\n",
    "print_metrics(results)"
   ]
  },
  {
   "cell_type": "code",
   "execution_count": null,
   "id": "96f280f6",
   "metadata": {},
   "outputs": [],
   "source": [
    "# save results as pickle\n",
    "with open(results_fov_pickle_file, 'wb') as file:\n",
    "    pickle.dump(results, file)"
   ]
  },
  {
   "cell_type": "code",
   "execution_count": null,
   "id": "c5023ec8",
   "metadata": {},
   "outputs": [],
   "source": []
  }
 ],
 "metadata": {
  "kernelspec": {
   "display_name": "Python 3",
   "language": "python",
   "name": "python3"
  },
  "language_info": {
   "codemirror_mode": {
    "name": "ipython",
    "version": 3
   },
   "file_extension": ".py",
   "mimetype": "text/x-python",
   "name": "python",
   "nbconvert_exporter": "python",
   "pygments_lexer": "ipython3",
   "version": "3.7.11"
  }
 },
 "nbformat": 4,
 "nbformat_minor": 5
}
